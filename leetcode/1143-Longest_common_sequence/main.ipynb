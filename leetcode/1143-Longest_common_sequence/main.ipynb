{
 "cells": [
  {
   "cell_type": "code",
   "execution_count": 2,
   "metadata": {},
   "outputs": [],
   "source": [
    "text1 = \"abcde\"; text2 = \"ace\""
   ]
  },
  {
   "cell_type": "code",
   "execution_count": 3,
   "metadata": {},
   "outputs": [],
   "source": [
    "smaller_string = text1 if len(text1) < len(text2) else text2\n",
    "larger_string =  text1 if len(text1) > len(text2) else text2"
   ]
  },
  {
   "cell_type": "code",
   "execution_count": 4,
   "metadata": {},
   "outputs": [],
   "source": [
    "class Solution:\n",
    "    def longestCommonSubsequence(self, s1: str, s2: str) -> int:\n",
    "        return self.helper(s1, s2, 0, 0)\n",
    "\n",
    "    def helper(self, s1, s2, i, j):\n",
    "        if i == len(s1) or j == len(s2): # First base case\n",
    "            return 0\n",
    "        if s1[i] == s2[j]: # Second base case \n",
    "            return 1 + self.helper(s1, s2, i + 1, j + 1)\n",
    "        else:\n",
    "            return max(self.helper(s1, s2, i+1, j), self.helper(s1, s2, i, j + 1))"
   ]
  },
  {
   "cell_type": "code",
   "execution_count": 5,
   "metadata": {},
   "outputs": [],
   "source": [
    "s = Solution()\n",
    "s.longestCommonSubsequence('abcd', 'ad')\n"
   ]
  },
  {
   "cell_type": "code",
   "execution_count": 9,
   "metadata": {},
   "outputs": [],
   "source": [
    "# Recursive solution with memoization\n",
    "class Solution:\n",
    "    def longestCommonSubsequence(self, s1: str, s2: str) -> int:\n",
    "        m = len(s1)\n",
    "        n = len(s2)\n",
    "        memo = [[-1 for _ in range(n + 1)] for _ in range(m + 1)]\n",
    "        return self.helper(s1, s2, 0, 0, memo)\n",
    "\n",
    "    def helper(self, s1, s2, i, j, memo):\n",
    "        if memo[i][j] < 0:\n",
    "            if i == len(s1) or j == len(s2):\n",
    "                memo[i][j] = 0\n",
    "            elif s1[i] == s2[j]:\n",
    "                memo[i][j] = 1 + self.helper(s1, s2, i + 1, j + 1, memo)\n",
    "            else:\n",
    "                memo[i][j] = max(\n",
    "                    self.helper(s1, s2, i + 1, j, memo),\n",
    "                    self.helper(s1, s2, i, j + 1, memo),\n",
    "                )\n",
    "        return memo[i][j]\n"
   ]
  },
  {
   "cell_type": "code",
   "execution_count": 10,
   "metadata": {},
   "outputs": [
    {
     "name": "stdout",
     "output_type": "stream",
     "text": [
      "[[-1, -1, -1], [-1, -1, -1], [-1, -1, -1], [-1, -1, -1]]\n"
     ]
    },
    {
     "data": {
      "text/plain": [
       "2"
      ]
     },
     "execution_count": 10,
     "metadata": {},
     "output_type": "execute_result"
    }
   ],
   "source": [
    "s1 = Solution()\n",
    "s1.longestCommonSubsequence(\"abc\", \"ac\")"
   ]
  },
  {
   "cell_type": "code",
   "execution_count": 1,
   "metadata": {},
   "outputs": [
    {
     "data": {
      "text/plain": [
       "[[0, 0, 0], [0, 0, 0], [0, 0, 0], [0, 0, 0]]"
      ]
     },
     "execution_count": 1,
     "metadata": {},
     "output_type": "execute_result"
    }
   ],
   "source": [
    "m = [[0] * 3] * 4\n",
    "m"
   ]
  },
  {
   "cell_type": "code",
   "execution_count": 4,
   "metadata": {},
   "outputs": [
    {
     "data": {
      "text/plain": [
       "[[18, 0, 0], [18, 0, 0], [18, 0, 0], [18, 0, 0]]"
      ]
     },
     "execution_count": 4,
     "metadata": {},
     "output_type": "execute_result"
    }
   ],
   "source": [
    "m[0][0] = 18\n",
    "m"
   ]
  },
  {
   "cell_type": "code",
   "execution_count": null,
   "metadata": {},
   "outputs": [],
   "source": []
  }
 ],
 "metadata": {
  "kernelspec": {
   "display_name": "Python 3",
   "language": "python",
   "name": "python3"
  },
  "language_info": {
   "codemirror_mode": {
    "name": "ipython",
    "version": 3
   },
   "file_extension": ".py",
   "mimetype": "text/x-python",
   "name": "python",
   "nbconvert_exporter": "python",
   "pygments_lexer": "ipython3",
   "version": "3.9.13"
  },
  "orig_nbformat": 4,
  "vscode": {
   "interpreter": {
    "hash": "5926885901cbf6afd2ca8f309e14dd121c3235281dc542f68de1e12d67778034"
   }
  }
 },
 "nbformat": 4,
 "nbformat_minor": 2
}
