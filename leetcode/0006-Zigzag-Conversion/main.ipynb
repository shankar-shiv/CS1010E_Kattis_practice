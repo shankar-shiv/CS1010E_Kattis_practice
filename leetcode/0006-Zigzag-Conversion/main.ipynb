{
 "cells": [
  {
   "cell_type": "code",
   "execution_count": 1,
   "metadata": {},
   "outputs": [
    {
     "name": "stdout",
     "output_type": "stream",
     "text": [
      "we need 1 row\n",
      "we need 1 row\n",
      "we need 1 row\n",
      "we need 1 row\n",
      "PAHNAPLSIIGYIR\n"
     ]
    }
   ],
   "source": [
    "s = \"PAYPALISHIRING\"\n",
    "char_pointer = 0\n",
    "numRows = 3\n",
    "\n",
    "li = [[] for _ in range(numRows)]\n",
    "\n",
    "selection = numRows\n",
    "middle_selection = numRows - 2\n",
    "\n",
    "while char_pointer != len(s):\n",
    "    for i in range(numRows):\n",
    "        li[i].append(s[char_pointer])\n",
    "        char_pointer += 1\n",
    "        if char_pointer == len(s):\n",
    "            break\n",
    "\n",
    "    # add numRows - 2 number of chars\n",
    "    print(f\"we need {middle_selection} row\")\n",
    "\n",
    "    for i in range(middle_selection):\n",
    "        if char_pointer == len(s):\n",
    "            break\n",
    "        choose_list = numRows - 2 - i\n",
    "        li[choose_list].append(s[char_pointer])\n",
    "        char_pointer += 1\n",
    "\n",
    "print(\"\".join([\"\".join(i) for i in li]))  # PAHNAPLSIIGYIR\n"
   ]
  },
  {
   "cell_type": "code",
   "execution_count": 11,
   "metadata": {},
   "outputs": [
    {
     "name": "stdout",
     "output_type": "stream",
     "text": [
      "['490,63', '495,63']\n",
      "['489,159', '494,159']\n",
      "['481,56', '481,57', '495,57', '495,56']\n"
     ]
    }
   ],
   "source": []
  },
  {
   "cell_type": "code",
   "execution_count": null,
   "metadata": {},
   "outputs": [],
   "source": []
  }
 ],
 "metadata": {
  "kernelspec": {
   "display_name": "Python 3",
   "language": "python",
   "name": "python3"
  },
  "language_info": {
   "codemirror_mode": {
    "name": "ipython",
    "version": 3
   },
   "file_extension": ".py",
   "mimetype": "text/x-python",
   "name": "python",
   "nbconvert_exporter": "python",
   "pygments_lexer": "ipython3",
   "version": "3.9.13"
  },
  "orig_nbformat": 4,
  "vscode": {
   "interpreter": {
    "hash": "5926885901cbf6afd2ca8f309e14dd121c3235281dc542f68de1e12d67778034"
   }
  }
 },
 "nbformat": 4,
 "nbformat_minor": 2
}
