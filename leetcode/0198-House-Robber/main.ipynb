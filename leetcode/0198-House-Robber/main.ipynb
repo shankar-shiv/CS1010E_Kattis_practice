{
 "cells": [
  {
   "cell_type": "code",
   "execution_count": 3,
   "metadata": {},
   "outputs": [],
   "source": [
    "\n",
    "def rob(nums):\n",
    "    # Base Case: nums[0] = nums[0]\n",
    "    # nums[1] = max(nums[0], nums[1])\n",
    "    # nums[k] = max(k + nums[k-2], nums[k-1])\n",
    "    '''\n",
    "    # Approach 1:- Construct dp table\n",
    "    if not nums: return 0\n",
    "    if len(nums) == 1: return nums[0]\n",
    "\n",
    "    dp = [0] * len(nums)\n",
    "    dp[0] = nums[0]\n",
    "    dp[1] = max(nums[0], nums[1])\n",
    "    for i in range(2, len(nums)):\n",
    "        dp[i] = max(nums[i] + dp[i-2], dp[i-1])\n",
    "    return dp[-1] # return the last element\n",
    "    '''\n",
    "\n",
    "    # Approach 2:- Constant space use two variables and compute the max respectively\n",
    "    prev = curr = 0\n",
    "    for num in nums:\n",
    "        temp = prev  # This represents the nums[i-2]th value\n",
    "        prev = curr  # This represents the nums[i-1]th value\n",
    "        curr = max(num + temp, prev)  # Here we just plug into the formula\n",
    "    return curr"
   ]
  },
  {
   "cell_type": "code",
   "execution_count": 4,
   "metadata": {},
   "outputs": [
    {
     "data": {
      "text/plain": [
       "[0, 0, 0, 0, 0]"
      ]
     },
     "execution_count": 4,
     "metadata": {},
     "output_type": "execute_result"
    }
   ],
   "source": [
    "nums = [2, 7, 9, 3, 1]\n",
    "dp = [0] * len(nums)\n",
    "dp"
   ]
  },
  {
   "cell_type": "code",
   "execution_count": 5,
   "metadata": {},
   "outputs": [
    {
     "data": {
      "text/plain": [
       "[2, 0, 0, 0, 0]"
      ]
     },
     "execution_count": 5,
     "metadata": {},
     "output_type": "execute_result"
    }
   ],
   "source": [
    "dp[0] = nums[0]\n",
    "dp"
   ]
  },
  {
   "cell_type": "code",
   "execution_count": 6,
   "metadata": {},
   "outputs": [
    {
     "data": {
      "text/plain": [
       "[2, 7, 0, 0, 0]"
      ]
     },
     "execution_count": 6,
     "metadata": {},
     "output_type": "execute_result"
    }
   ],
   "source": [
    "dp[1] = max(nums[0], nums[1])\n",
    "\n",
    "dp"
   ]
  },
  {
   "cell_type": "code",
   "execution_count": 7,
   "metadata": {},
   "outputs": [
    {
     "data": {
      "text/plain": [
       "12"
      ]
     },
     "execution_count": 7,
     "metadata": {},
     "output_type": "execute_result"
    }
   ],
   "source": [
    "for i in range(2, len(nums)):\n",
    "    dp[i] = max(nums[i] + dp[i-2], dp[i-1])\n",
    "dp[-1]"
   ]
  },
  {
   "cell_type": "code",
   "execution_count": 8,
   "metadata": {},
   "outputs": [
    {
     "data": {
      "text/plain": [
       "4"
      ]
     },
     "execution_count": 8,
     "metadata": {},
     "output_type": "execute_result"
    }
   ],
   "source": [
    "rob([1,2,3])"
   ]
  },
  {
   "cell_type": "code",
   "execution_count": null,
   "metadata": {},
   "outputs": [],
   "source": []
  }
 ],
 "metadata": {
  "kernelspec": {
   "display_name": "Python 3",
   "language": "python",
   "name": "python3"
  },
  "language_info": {
   "codemirror_mode": {
    "name": "ipython",
    "version": 3
   },
   "file_extension": ".py",
   "mimetype": "text/x-python",
   "name": "python",
   "nbconvert_exporter": "python",
   "pygments_lexer": "ipython3",
   "version": "3.9.13 (tags/v3.9.13:6de2ca5, May 17 2022, 16:36:42) [MSC v.1929 64 bit (AMD64)]"
  },
  "orig_nbformat": 4,
  "vscode": {
   "interpreter": {
    "hash": "5926885901cbf6afd2ca8f309e14dd121c3235281dc542f68de1e12d67778034"
   }
  }
 },
 "nbformat": 4,
 "nbformat_minor": 2
}
