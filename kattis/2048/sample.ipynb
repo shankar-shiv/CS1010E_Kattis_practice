{
 "cells": [
  {
   "cell_type": "code",
   "execution_count": 1,
   "metadata": {},
   "outputs": [],
   "source": [
    "def shift(numbers):\n",
    "    new_numbers = [[], [], [], []]\n",
    "    i = len(numbers[0]) - 1 # 3 columns\n",
    "    k = 0\n",
    "    while i != -1: # 3 != -1\n",
    "        j = 0\n",
    "        while j < len(numbers): # 0 < len(numbers) = 4\n",
    "            new_numbers[k].append(numbers[j][i])\n",
    "            j += 1\n",
    "        k += 1 # Add in second row\n",
    "        i -= 1 # Move to next columns\n",
    "    return new_numbers\n"
   ]
  },
  {
   "cell_type": "code",
   "execution_count": 20,
   "metadata": {},
   "outputs": [],
   "source": [
    "def shift_right(numbers):\n",
    "    new_numbers = [[], [], [], []]\n",
    "    k = 0\n",
    "    j = 0\n",
    "    while j < len(numbers):\n",
    "        i = len(numbers[0]) - 1  # 3\n",
    "        while i != -1:  # 0 < len(numbers) = 4\n",
    "            new_numbers[k].append(numbers[i][j])\n",
    "            i -= 1  # Move to next row\n",
    "        k += 1  # Add in second row\n",
    "        j += 1\n",
    "    return new_numbers\n"
   ]
  },
  {
   "cell_type": "code",
   "execution_count": 21,
   "metadata": {},
   "outputs": [],
   "source": [
    "numbers = [[0, 0, 4, 4], [0, 8, 32, 64], [0, 16, 64, 1024], [2, 4, 2, 1024]]"
   ]
  },
  {
   "cell_type": "code",
   "execution_count": 22,
   "metadata": {},
   "outputs": [
    {
     "data": {
      "text/plain": [
       "[[2, 0, 0, 0], [4, 16, 8, 0], [2, 64, 32, 4], [1024, 1024, 64, 4]]"
      ]
     },
     "execution_count": 22,
     "metadata": {},
     "output_type": "execute_result"
    }
   ],
   "source": [
    "shift_right(numbers)"
   ]
  },
  {
   "cell_type": "code",
   "execution_count": 25,
   "metadata": {},
   "outputs": [
    {
     "name": "stdout",
     "output_type": "stream",
     "text": [
      "0 0 4 4\n",
      "0 8 32 64\n",
      "0 16 64 1024\n",
      "2 4 2 1024\n"
     ]
    }
   ],
   "source": [
    "for line in numbers:\n",
    "    line = list(map(str, line))\n",
    "    print(\" \".join(line))"
   ]
  },
  {
   "cell_type": "code",
   "execution_count": null,
   "metadata": {},
   "outputs": [],
   "source": []
  }
 ],
 "metadata": {
  "kernelspec": {
   "display_name": "Python 3.10.4 64-bit",
   "language": "python",
   "name": "python3"
  },
  "language_info": {
   "codemirror_mode": {
    "name": "ipython",
    "version": 3
   },
   "file_extension": ".py",
   "mimetype": "text/x-python",
   "name": "python",
   "nbconvert_exporter": "python",
   "pygments_lexer": "ipython3",
   "version": "3.10.4"
  },
  "orig_nbformat": 4,
  "vscode": {
   "interpreter": {
    "hash": "8e4bb477471b2dc09f9788fae4b3a04274fcf8aff3dddd911839e45cb91ce240"
   }
  }
 },
 "nbformat": 4,
 "nbformat_minor": 2
}
